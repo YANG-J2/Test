{
  "nbformat": 4,
  "nbformat_minor": 0,
  "metadata": {
    "colab": {
      "name": "BackTest forWaving.ipynb",
      "provenance": [],
      "collapsed_sections": [],
      "include_colab_link": true
    },
    "kernelspec": {
      "name": "python3",
      "display_name": "Python 3"
    },
    "language_info": {
      "name": "python"
    }
  },
  "cells": [
    {
      "cell_type": "markdown",
      "metadata": {
        "id": "view-in-github",
        "colab_type": "text"
      },
      "source": [
        "<a href=\"https://colab.research.google.com/github/YANG-J2/Test/blob/main/BackTest_forWaving.ipynb\" target=\"_parent\"><img src=\"https://colab.research.google.com/assets/colab-badge.svg\" alt=\"Open In Colab\"/></a>"
      ]
    },
    {
      "cell_type": "code",
      "metadata": {
        "colab": {
          "base_uri": "https://localhost:8080/"
        },
        "id": "ShLj3nmS69BB",
        "outputId": "0280c6e9-6e5f-4453-dd18-d88ba8924132"
      },
      "source": [
        "#필요 라이브러리 설치\n",
        "!pip install pyupbit"
      ],
      "execution_count": null,
      "outputs": [
        {
          "output_type": "stream",
          "text": [
            "Collecting pyupbit\n",
            "  Downloading pyupbit-0.2.19-py3-none-any.whl (19 kB)\n",
            "Requirement already satisfied: pandas in /usr/local/lib/python3.7/dist-packages (from pyupbit) (1.1.5)\n",
            "Requirement already satisfied: requests in /usr/local/lib/python3.7/dist-packages (from pyupbit) (2.23.0)\n",
            "Collecting websockets\n",
            "  Downloading websockets-9.1-cp37-cp37m-manylinux2010_x86_64.whl (103 kB)\n",
            "\u001b[K     |████████████████████████████████| 103 kB 14.7 MB/s \n",
            "\u001b[?25hCollecting pyjwt>=2.0.0\n",
            "  Downloading PyJWT-2.1.0-py3-none-any.whl (16 kB)\n",
            "Requirement already satisfied: python-dateutil>=2.7.3 in /usr/local/lib/python3.7/dist-packages (from pandas->pyupbit) (2.8.1)\n",
            "Requirement already satisfied: pytz>=2017.2 in /usr/local/lib/python3.7/dist-packages (from pandas->pyupbit) (2018.9)\n",
            "Requirement already satisfied: numpy>=1.15.4 in /usr/local/lib/python3.7/dist-packages (from pandas->pyupbit) (1.19.5)\n",
            "Requirement already satisfied: six>=1.5 in /usr/local/lib/python3.7/dist-packages (from python-dateutil>=2.7.3->pandas->pyupbit) (1.15.0)\n",
            "Requirement already satisfied: certifi>=2017.4.17 in /usr/local/lib/python3.7/dist-packages (from requests->pyupbit) (2021.5.30)\n",
            "Requirement already satisfied: urllib3!=1.25.0,!=1.25.1,<1.26,>=1.21.1 in /usr/local/lib/python3.7/dist-packages (from requests->pyupbit) (1.24.3)\n",
            "Requirement already satisfied: chardet<4,>=3.0.2 in /usr/local/lib/python3.7/dist-packages (from requests->pyupbit) (3.0.4)\n",
            "Requirement already satisfied: idna<3,>=2.5 in /usr/local/lib/python3.7/dist-packages (from requests->pyupbit) (2.10)\n",
            "Installing collected packages: websockets, pyjwt, pyupbit\n",
            "Successfully installed pyjwt-2.1.0 pyupbit-0.2.19 websockets-9.1\n"
          ],
          "name": "stdout"
        }
      ]
    },
    {
      "cell_type": "code",
      "metadata": {
        "id": "qbNs53WW7mN3"
      },
      "source": [
        "import pyupbit\n",
        "import time"
      ],
      "execution_count": null,
      "outputs": []
    },
    {
      "cell_type": "code",
      "metadata": {
        "id": "jf929iQ77Sxs"
      },
      "source": [
        "#엑세스 키 설정\n",
        "access = \"5jhe61f02iravv9IdXOaaQ1OxRjClWJRTWl9ySWz\"          \n",
        "secret = \"lax8CIeixxhqiyZuDkgHYBcgGFpNuSati9teEvS1\"          \n",
        "upbit= pyupbit.Upbit(access, secret)"
      ],
      "execution_count": null,
      "outputs": []
    },
    {
      "cell_type": "code",
      "metadata": {
        "id": "hP7IcXYd8aXs"
      },
      "source": [
        "#일단 그럼 내가 생각한 가설\n",
        "#한번 급등세가 온다면 다음날정도는 항상 상승한다 4시간 기준\n",
        "#종가로만 판단해보자\n",
        "#급등세가 온다는 것을 객관화하기 - 이전 최고 최저 차이의 6배 이상 상승 "
      ],
      "execution_count": null,
      "outputs": []
    },
    {
      "cell_type": "code",
      "metadata": {
        "id": "cuZXo9fx97QO"
      },
      "source": [
        "def RatingCoin(Coinname,R=3):\n",
        "  DF = pyupbit.get_ohlcv(Coinname,interval = 'day')\n",
        "  DF['close'][-1]\n",
        "  data_size = len(DF['close'])\n",
        "  case = 0\n",
        "  Success = 0\n",
        "  ProfitSUM = 0\n",
        "  for i in range(2,data_size-1):\n",
        "    PastGap = DF['high'][i-1]-DF['low'][i-1]\n",
        "    PreGap = DF['close'][i]-DF['close'][i-1]\n",
        "    Answer = DF['close'][i+1]-DF['close'][i]\n",
        "    Profit = Answer/DF['close'][i]*100\n",
        "    \n",
        "    if PreGap >= R*PastGap:\n",
        "      case = case + 1\n",
        "      ProfitSUM = ProfitSUM + Profit\n",
        "      if Answer > 0:\n",
        "        Success = Success + 1\n",
        "      else:\n",
        "        pass\n",
        "    else:\n",
        "      pass\n",
        "  if case == 0:\n",
        "    # print('''There was no attempt.''' )\n",
        "    return 0 \n",
        "  else:\n",
        "    rate = Success/case*100\n",
        "    # print(rate)\n",
        "    # print(ProfitSUM/case)\n",
        "    return ProfitSUM/case\n",
        "\n",
        "  \n"
      ],
      "execution_count": null,
      "outputs": []
    },
    {
      "cell_type": "code",
      "metadata": {
        "colab": {
          "base_uri": "https://localhost:8080/"
        },
        "id": "d6SkuuFG-xx0",
        "outputId": "bdb8ebd4-424b-49c3-d9b8-d9ee687e05a9"
      },
      "source": [
        "CoinGroup = pyupbit.get_tickers(fiat=\"KRW\")\n",
        "PSUM = 0\n",
        "Number = 0\n",
        "for Coin in CoinGroup:\n",
        "  # print(Coin)\n",
        "  PSUM = PSUM + RatingCoin(Coin,3)\n",
        "  Number = Number + 1\n",
        "  time.sleep(0.03)\n",
        "print(PSUM/Number)\n"
      ],
      "execution_count": null,
      "outputs": [
        {
          "output_type": "stream",
          "text": [
            "1.9733679660172112\n"
          ],
          "name": "stdout"
        }
      ]
    },
    {
      "cell_type": "code",
      "metadata": {
        "id": "YkLTWPy1DyKq",
        "colab": {
          "base_uri": "https://localhost:8080/"
        },
        "outputId": "21e80566-eaf2-44e6-fd92-3bbc5f8a8f52"
      },
      "source": [
        "pyupbit.get_ohlcv(['KRW-BTC','KRW_DOGE'])"
      ],
      "execution_count": null,
      "outputs": [
        {
          "output_type": "stream",
          "text": [
            "TypeError\n"
          ],
          "name": "stdout"
        }
      ]
    },
    {
      "cell_type": "code",
      "metadata": {
        "colab": {
          "base_uri": "https://localhost:8080/"
        },
        "id": "0o6KDqcZOOjm",
        "outputId": "b2a5e2b2-97e4-4846-fd02-ad508a837997"
      },
      "source": [
        "pyupbit.get_tickers(fiat=\"KRW\")\n"
      ],
      "execution_count": null,
      "outputs": [
        {
          "output_type": "execute_result",
          "data": {
            "text/plain": [
              "['KRW-BTC',\n",
              " 'KRW-ETH',\n",
              " 'KRW-NEO',\n",
              " 'KRW-MTL',\n",
              " 'KRW-LTC',\n",
              " 'KRW-XRP',\n",
              " 'KRW-ETC',\n",
              " 'KRW-OMG',\n",
              " 'KRW-SNT',\n",
              " 'KRW-WAVES',\n",
              " 'KRW-XEM',\n",
              " 'KRW-QTUM',\n",
              " 'KRW-LSK',\n",
              " 'KRW-STEEM',\n",
              " 'KRW-XLM',\n",
              " 'KRW-ARDR',\n",
              " 'KRW-ARK',\n",
              " 'KRW-STORJ',\n",
              " 'KRW-GRS',\n",
              " 'KRW-REP',\n",
              " 'KRW-ADA',\n",
              " 'KRW-SBD',\n",
              " 'KRW-POWR',\n",
              " 'KRW-BTG',\n",
              " 'KRW-ICX',\n",
              " 'KRW-EOS',\n",
              " 'KRW-TRX',\n",
              " 'KRW-SC',\n",
              " 'KRW-ONT',\n",
              " 'KRW-ZIL',\n",
              " 'KRW-POLY',\n",
              " 'KRW-ZRX',\n",
              " 'KRW-LOOM',\n",
              " 'KRW-BCH',\n",
              " 'KRW-BAT',\n",
              " 'KRW-IOST',\n",
              " 'KRW-RFR',\n",
              " 'KRW-CVC',\n",
              " 'KRW-IQ',\n",
              " 'KRW-IOTA',\n",
              " 'KRW-MFT',\n",
              " 'KRW-ONG',\n",
              " 'KRW-GAS',\n",
              " 'KRW-UPP',\n",
              " 'KRW-ELF',\n",
              " 'KRW-KNC',\n",
              " 'KRW-BSV',\n",
              " 'KRW-THETA',\n",
              " 'KRW-QKC',\n",
              " 'KRW-BTT',\n",
              " 'KRW-MOC',\n",
              " 'KRW-ENJ',\n",
              " 'KRW-TFUEL',\n",
              " 'KRW-MANA',\n",
              " 'KRW-ANKR',\n",
              " 'KRW-AERGO',\n",
              " 'KRW-ATOM',\n",
              " 'KRW-TT',\n",
              " 'KRW-CRE',\n",
              " 'KRW-MBL',\n",
              " 'KRW-WAXP',\n",
              " 'KRW-HBAR',\n",
              " 'KRW-MED',\n",
              " 'KRW-MLK',\n",
              " 'KRW-STPT',\n",
              " 'KRW-ORBS',\n",
              " 'KRW-VET',\n",
              " 'KRW-CHZ',\n",
              " 'KRW-STMX',\n",
              " 'KRW-DKA',\n",
              " 'KRW-HIVE',\n",
              " 'KRW-KAVA',\n",
              " 'KRW-AHT',\n",
              " 'KRW-LINK',\n",
              " 'KRW-XTZ',\n",
              " 'KRW-BORA',\n",
              " 'KRW-JST',\n",
              " 'KRW-CRO',\n",
              " 'KRW-TON',\n",
              " 'KRW-SXP',\n",
              " 'KRW-HUNT',\n",
              " 'KRW-PLA',\n",
              " 'KRW-DOT',\n",
              " 'KRW-SRM',\n",
              " 'KRW-MVL',\n",
              " 'KRW-STRAX',\n",
              " 'KRW-AQT',\n",
              " 'KRW-BCHA',\n",
              " 'KRW-GLM',\n",
              " 'KRW-SSX',\n",
              " 'KRW-META',\n",
              " 'KRW-FCT2',\n",
              " 'KRW-CBK',\n",
              " 'KRW-SAND',\n",
              " 'KRW-HUM',\n",
              " 'KRW-DOGE',\n",
              " 'KRW-STRK',\n",
              " 'KRW-PUNDIX',\n",
              " 'KRW-FLOW',\n",
              " 'KRW-DAWN',\n",
              " 'KRW-AXS',\n",
              " 'KRW-STX']"
            ]
          },
          "metadata": {
            "tags": []
          },
          "execution_count": 6
        }
      ]
    }
  ]
}